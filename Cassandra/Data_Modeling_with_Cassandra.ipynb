{
 "cells": [
  {
   "cell_type": "markdown",
   "metadata": {},
   "source": [
    "# Part I. ETL Pipeline for Pre-Processing the Files"
   ]
  },
  {
   "cell_type": "markdown",
   "metadata": {},
   "source": [
    "## PLEASE RUN THE FOLLOWING CODE FOR PRE-PROCESSING THE FILES"
   ]
  },
  {
   "cell_type": "markdown",
   "metadata": {},
   "source": [
    "#### Import Python packages "
   ]
  },
  {
   "cell_type": "code",
   "execution_count": 39,
   "metadata": {},
   "outputs": [],
   "source": [
    "# Import Python packages \n",
    "import pandas as pd\n",
    "import cassandra\n",
    "import re\n",
    "import os\n",
    "import glob\n",
    "import numpy as np\n",
    "import json\n",
    "import csv\n",
    "from prettytable import PrettyTable"
   ]
  },
  {
   "cell_type": "markdown",
   "metadata": {},
   "source": [
    "#### Creating list of filepaths to process original event csv data files"
   ]
  },
  {
   "cell_type": "code",
   "execution_count": 40,
   "metadata": {},
   "outputs": [],
   "source": [
    "filepath = os.getcwd() + '/event_data'\n",
    "for root, dirs, files in os.walk(filepath):    \n",
    "    file_path_list = glob.glob(os.path.join(root,'*'))"
   ]
  },
  {
   "cell_type": "markdown",
   "metadata": {},
   "source": [
    "#### Processing the files to create the data file csv that will be used for Apache Casssandra tables"
   ]
  },
  {
   "cell_type": "code",
   "execution_count": 41,
   "metadata": {},
   "outputs": [],
   "source": [
    "full_data_rows_list = [] \n",
    "    \n",
    "for f in file_path_list:\n",
    "    with open(f, 'r', encoding = 'utf8', newline='') as csvfile: \n",
    "        csvreader = csv.reader(csvfile) \n",
    "        next(csvreader)\n",
    "        \n",
    "        for line in csvreader:\n",
    "            full_data_rows_list.append(line) \n",
    "            \n",
    "csv.register_dialect('myDialect', quoting=csv.QUOTE_ALL, skipinitialspace=True)\n",
    "\n",
    "with open('event_datafile_new.csv', 'w', encoding = 'utf8', newline='') as f:\n",
    "    writer = csv.writer(f, dialect='myDialect')\n",
    "    writer.writerow(['artist','firstName','gender','itemInSession','lastName','length',\\\n",
    "                'level','location','sessionId','song','userId'])\n",
    "    for row in full_data_rows_list:\n",
    "        if (row[0] == ''):\n",
    "            continue\n",
    "        writer.writerow((row[0], row[2], row[3], row[4], row[5], row[6], row[7], row[8], row[12], row[13], row[16]))\n"
   ]
  },
  {
   "cell_type": "code",
   "execution_count": 42,
   "metadata": {},
   "outputs": [
    {
     "name": "stdout",
     "output_type": "stream",
     "text": [
      "6821\n"
     ]
    }
   ],
   "source": [
    "# check the number of rows in csv file\n",
    "with open('event_datafile_new.csv', 'r', encoding = 'utf8') as f:\n",
    "    print(sum(1 for line in f))"
   ]
  },
  {
   "cell_type": "markdown",
   "metadata": {},
   "source": [
    "# Part II. Complete the Apache Cassandra coding portion of your project. \n",
    "\n",
    "## Now you are ready to work with the CSV file titled <font color=red>event_datafile_new.csv</font>, located within the Workspace directory.  The event_datafile_new.csv contains the following columns: \n",
    "- artist \n",
    "- firstName of user\n",
    "- gender of user\n",
    "- item number in session\n",
    "- last name of user\n",
    "- length of the song\n",
    "- level (paid or free song)\n",
    "- location of the user\n",
    "- sessionId\n",
    "- song title\n",
    "- userId\n",
    "\n",
    "The image below is a screenshot of what the denormalized data should appear like in the <font color=red>**event_datafile_new.csv**</font> after the code above is run:<br>\n",
    "\n",
    "<img src=\"images/image_event_datafile_new.jpg\">"
   ]
  },
  {
   "cell_type": "markdown",
   "metadata": {},
   "source": [
    "## Begin writing your Apache Cassandra code in the cells below"
   ]
  },
  {
   "cell_type": "markdown",
   "metadata": {},
   "source": [
    "#### Creating a Cluster"
   ]
  },
  {
   "cell_type": "code",
   "execution_count": 43,
   "metadata": {},
   "outputs": [],
   "source": [
    "from cassandra.cluster import Cluster\n",
    "cluster = Cluster()\n",
    "session = cluster.connect()"
   ]
  },
  {
   "cell_type": "markdown",
   "metadata": {},
   "source": [
    "#### Create Keyspace"
   ]
  },
  {
   "cell_type": "code",
   "execution_count": 44,
   "metadata": {},
   "outputs": [
    {
     "name": "stdout",
     "output_type": "stream",
     "text": [
      "Keyspace Music created\n"
     ]
    }
   ],
   "source": [
    "session.execute(\"\"\"\n",
    "create keyspace if not exists music with replication = { 'class':'SimpleStrategy', 'replication_factor':1}\n",
    "\"\"\")\n",
    "print(\"Keyspace Music created\")"
   ]
  },
  {
   "cell_type": "markdown",
   "metadata": {},
   "source": [
    "#### Set Keyspace"
   ]
  },
  {
   "cell_type": "code",
   "execution_count": 45,
   "metadata": {},
   "outputs": [],
   "source": [
    "session.set_keyspace('music')"
   ]
  },
  {
   "cell_type": "markdown",
   "metadata": {},
   "source": [
    "### Now we need to create tables to run the following queries. Remember, with Apache Cassandra you model the database tables on the queries you want to run."
   ]
  },
  {
   "cell_type": "markdown",
   "metadata": {},
   "source": [
    "## Create queries to ask the following three questions of the data\n",
    "\n",
    "### 1. Give me the artist, song title and song's length in the music app history that was heard during  sessionId = 338, and itemInSession  = 4\n",
    "\n",
    "\n",
    "### 2. Give me only the following: name of artist, song (sorted by itemInSession) and user (first and last name) for userid = 10, sessionid = 182\n",
    "    \n",
    "\n",
    "### 3. Give me every user name (first and last) in my music app history who listened to the song 'All Hands Against His Own'\n",
    "\n",
    "\n"
   ]
  },
  {
   "cell_type": "code",
   "execution_count": 46,
   "metadata": {},
   "outputs": [
    {
     "name": "stdout",
     "output_type": "stream",
     "text": [
      "+-----------+---------------------------------+--------------------+\n",
      "| Artist    | Song Title                      | Song Length        |\n",
      "+-----------+---------------------------------+--------------------+\n",
      "| Faithless | Music Matters (Mark Knight Dub) | 495.30731201171875 |\n",
      "+-----------+---------------------------------+--------------------+\n"
     ]
    }
   ],
   "source": [
    "# Give me the artist, song title and song's length in the music app history that was heard during \n",
    "# sessionId = 338, and itemInSession =4\n",
    "\n",
    "create_song_details = 'create table song_details '\n",
    "create_song_details = create_song_details + \"(sessionid int, iteminsession int, artist text, song text, length float, PRIMARY KEY(sessionid, iteminsession))\"\n",
    "session.execute(create_song_details)   \n",
    "\n",
    "file = 'event_datafile_new.csv'\n",
    "\n",
    "with open(file, encoding = 'utf8') as f:\n",
    "    csvreader = csv.reader(f)\n",
    "    next(csvreader) # skip header\n",
    "    for line in csvreader:\n",
    "        insert_song_details = \"insert into song_details (artist, song, length, sessionid, iteminsession)\"\n",
    "        insert_song_details = insert_song_details + \" VALUES (%s, %s, %s, %s, %s)\"\n",
    "        session.execute(insert_song_details, (line[0], line[9], float(line[5]), int(line[8]), int(line[3])))\n",
    "        \n",
    "select_song_details = \"select artist, song, length from song_details where sessionid = 338 and iteminsession = 4\"\n",
    "rows = session.execute(select_song_details)\n",
    "\n",
    "song_details_table_results = PrettyTable(['Artist', 'Song Title', 'Song Length'])\n",
    "song_details_table_results.align['Artist'] = \"l\"\n",
    "song_details_table_results.align['Song Title'] = \"l\"\n",
    "song_details_table_results.align['Song Length'] = \"l\"\n",
    "\n",
    "for row in rows:\n",
    "    song_details_table_results.add_row([row.artist, row.song, row.length])\n",
    "print(song_details_table_results)"
   ]
  },
  {
   "cell_type": "code",
   "execution_count": 47,
   "metadata": {},
   "outputs": [
    {
     "name": "stdout",
     "output_type": "stream",
     "text": [
      "+-------------------+------------------------------------------------------+-------------+\n",
      "| Artist            | Song Title                                           | User        |\n",
      "+-------------------+------------------------------------------------------+-------------+\n",
      "| Down To The Bone  | Keep On Keepin' On                                   | Sylvie Cruz |\n",
      "| Three Drives      | Greece 2000                                          | Sylvie Cruz |\n",
      "| Sebastien Tellier | Kilometer                                            | Sylvie Cruz |\n",
      "| Lonnie Gordon     | Catch You Baby (Steve Pitron & Max Sanna Radio Edit) | Sylvie Cruz |\n",
      "+-------------------+------------------------------------------------------+-------------+\n"
     ]
    }
   ],
   "source": [
    "# Give me only the following: name of artist, song (sorted by itemInSession) and user (first and last name) for \n",
    "# userid = 10, sessionid = 182\n",
    "\n",
    "create_artist_details = 'create table artist_details '\n",
    "create_artist_details = create_artist_details + \"(userid int, sessionid int, iteminsession int, artist text, song text, firstname text, lastname text, PRIMARY KEY((userid, sessionid), iteminsession));\"\n",
    "session.execute(create_artist_details)\n",
    "\n",
    "file = 'event_datafile_new.csv'\n",
    "\n",
    "with open(file, encoding = 'utf8') as f:\n",
    "    csvreader = csv.reader(f)\n",
    "    next(csvreader) # skip header\n",
    "    for line in csvreader:\n",
    "        insert_artist_details = \"insert into artist_details (userid, sessionid, iteminsession, artist, song, firstname, lastname)\"\n",
    "        insert_artist_details = insert_artist_details + \" VALUES (%s, %s, %s, %s, %s, %s, %s)\"\n",
    "        session.execute(insert_artist_details, (int(line[10]), int(line[8]), int(line[3]), line[0], line[9], line[1], line[4]))\n",
    "\n",
    "select_artist_details = \"select artist, song, firstname, lastname from artist_details where userid = 10 and sessionid = 182\"\n",
    "rows = session.execute(select_artist_details)\n",
    "\n",
    "artist_details_table_results = PrettyTable(['Artist','Song Title','User'])\n",
    "\n",
    "artist_details_table_results.align['Artist'] = \"l\"\n",
    "artist_details_table_results.align['Song Title'] = \"l\"\n",
    "artist_details_table_results.align['User'] = \"l\"\n",
    "\n",
    "for row in rows:\n",
    "    artist_details_table_results.add_row([row.artist, row.song, str(row.firstname + \" \" + row.lastname)])\n",
    "print(artist_details_table_results)"
   ]
  },
  {
   "cell_type": "code",
   "execution_count": 48,
   "metadata": {},
   "outputs": [
    {
     "name": "stdout",
     "output_type": "stream",
     "text": [
      "+------------------+\n",
      "| User             |\n",
      "+------------------+\n",
      "| Jacqueline Lynch |\n",
      "| Tegan Levine     |\n",
      "| Sara Johnson     |\n",
      "+------------------+\n"
     ]
    }
   ],
   "source": [
    "# Give me every user name (first and last) in my music app history who listened to the song 'All Hands Against His Own'\n",
    "\n",
    "create_user_details = 'create table user_details '\n",
    "create_user_details = create_user_details + \"(song text, userid int, firstname text, lastname text, PRIMARY KEY(song, userid))\"\n",
    "session.execute(create_user_details)\n",
    "\n",
    "file = 'event_datafile_new.csv'\n",
    "\n",
    "with open(file, encoding = 'utf8') as f:\n",
    "    csvreader = csv.reader(f)\n",
    "    next(csvreader) # skip header\n",
    "    for line in csvreader:\n",
    "        insert_user_details = \"insert into user_details (song, userid, firstname, lastname)\"\n",
    "        insert_user_details = insert_user_details + \" VALUES (%s, %s, %s, %s)\"\n",
    "        session.execute(insert_user_details, (line[9], int(line[10]), line[1], line[4]))\n",
    "\n",
    "select_user_details = \"select firstname, lastname from user_details where song = 'All Hands Against His Own'\"\n",
    "rows = session.execute(select_user_details)\n",
    "\n",
    "select_user_details_table_results = PrettyTable(['User'])\n",
    "select_user_details_table_results.align[\"User\"] = \"l\"\n",
    "\n",
    "for row in rows:\n",
    "    select_user_details_table_results.add_row([str(row.firstname + \" \" + row.lastname)])\n",
    "print(select_user_details_table_results)"
   ]
  },
  {
   "cell_type": "markdown",
   "metadata": {},
   "source": [
    "### Drop the tables before closing out the sessions"
   ]
  },
  {
   "cell_type": "code",
   "execution_count": 49,
   "metadata": {},
   "outputs": [
    {
     "name": "stdout",
     "output_type": "stream",
     "text": [
      "All tables dropped\n"
     ]
    }
   ],
   "source": [
    "drop_song_details = 'Drop table song_details'\n",
    "drop_artist_details = 'Drop table artist_details'\n",
    "drop_user_details = 'Drop table user_details'\n",
    "\n",
    "session.execute(drop_song_details)\n",
    "session.execute(drop_artist_details)\n",
    "session.execute(drop_user_details)\n",
    "print(\"All tables dropped\")"
   ]
  },
  {
   "cell_type": "markdown",
   "metadata": {},
   "source": [
    "### Close the session and cluster connection¶"
   ]
  },
  {
   "cell_type": "code",
   "execution_count": 50,
   "metadata": {},
   "outputs": [],
   "source": [
    "session.shutdown()\n",
    "cluster.shutdown()"
   ]
  },
  {
   "cell_type": "code",
   "execution_count": null,
   "metadata": {},
   "outputs": [],
   "source": []
  }
 ],
 "metadata": {
  "kernelspec": {
   "display_name": "Python 3",
   "language": "python",
   "name": "python3"
  },
  "language_info": {
   "codemirror_mode": {
    "name": "ipython",
    "version": 3
   },
   "file_extension": ".py",
   "mimetype": "text/x-python",
   "name": "python",
   "nbconvert_exporter": "python",
   "pygments_lexer": "ipython3",
   "version": "3.6.3"
  }
 },
 "nbformat": 4,
 "nbformat_minor": 2
}
